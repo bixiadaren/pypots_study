{
 "cells": [
  {
   "cell_type": "markdown",
   "id": "9ec73940-064c-4613-bd7f-03eb9a378754",
   "metadata": {},
   "source": [
    "# Task03. 下游任务的两阶段处理"
   ]
  },
  {
   "cell_type": "markdown",
   "id": "a8ab9c82-ba1d-4821-b98b-755731920b3b",
   "metadata": {},
   "source": [
    "# 1. 什么是两阶段 (two-stage) 处理\n",
    "\n",
    "### 一般采集到的时序数据可能会有\"瑕疵\", 例如包含缺失值, 异常数据点和样本等等, 虽然这些\"瑕疵\"也属于数据的特性 (例如缺失值的模式可能代表了设备的异常情况), 但在一般的建模中是有害的不被我们需要的, 会阻碍算法的学习甚至让我们无法使用神经网络直接对其进行端到端的建模 (例如很多的时序预测算法和分类算法无法处理缺失值), 这时就需要我们在上游先对时序进行有特别目的的再处理, 然后进行下游任务(例如预测, 分类等)建模, 这样的建模处理分就被分为了两个阶段."
   ]
  },
  {
   "cell_type": "markdown",
   "id": "03328e13-5f1e-42c2-a6f5-10285eda5aba",
   "metadata": {},
   "source": [
    "# 2. 使用LSTM来对Task02中插补后保存的数据集进行分类f"
   ]
  },
  {
   "cell_type": "markdown",
   "id": "1621555c-fe6d-4d4f-af1e-98283bf9a714",
   "metadata": {},
   "source": [
    "### 2.1 模型与训练函数编写"
   ]
  },
  {
   "cell_type": "code",
   "execution_count": 1,
   "id": "3d858b64-ff3b-4ac6-ac48-3b953da8a6ff",
   "metadata": {},
   "outputs": [],
   "source": [
    "import numpy as np\n",
    "import torch\n",
    "from torch.utils.data import Dataset, DataLoader\n",
    "import torch.nn.functional as F\n",
    "from copy import deepcopy\n",
    "\n",
    "# 设置模型的运行设备为cpu, 如果你有gpu设备可以设置为cuda\n",
    "DEVICE='cpu'\n",
    "\n",
    "class LoadImputedDataAndLabel(Dataset):\n",
    "    def __init__(self, imputed_data, labels):\n",
    "        self.imputed_data = imputed_data\n",
    "        self.labels = labels\n",
    "\n",
    "    def __len__(self):\n",
    "        return len(self.labels)\n",
    "\n",
    "    def __getitem__(self, idx):\n",
    "        return (\n",
    "            torch.from_numpy(self.imputed_data[idx]).to(torch.float32),\n",
    "            torch.tensor(self.labels[idx]).to(torch.long),\n",
    "        )\n",
    "\n",
    "\n",
    "class ClassificationLSTM(torch.nn.Module):\n",
    "    def __init__(self, n_features, rnn_hidden_size, n_classes):\n",
    "        super().__init__()\n",
    "        self.rnn = torch.nn.LSTM(\n",
    "            n_features,\n",
    "            hidden_size=rnn_hidden_size,\n",
    "            batch_first=True,\n",
    "        )\n",
    "        self.fcn = torch.nn.Linear(rnn_hidden_size, n_classes)\n",
    "\n",
    "    def forward(self, data):\n",
    "        hidden_states, _ = self.rnn(data)\n",
    "        logits = self.fcn(hidden_states[:, -1, :])\n",
    "        prediction_probabilities = torch.sigmoid(logits)\n",
    "        return prediction_probabilities\n",
    "\n",
    "\n",
    "def train(model, train_dataloader, val_dataloader, test_loader):\n",
    "    n_epochs = 20\n",
    "    patience = 5\n",
    "    optimizer = torch.optim.Adam(model.parameters(), 1e-3)\n",
    "    current_patience = patience\n",
    "    best_loss = float(\"inf\")\n",
    "    for epoch in range(n_epochs):\n",
    "        model.train()\n",
    "        for idx, data in enumerate(train_dataloader):\n",
    "            X, y = map(lambda x: x.to(DEVICE), data)\n",
    "            optimizer.zero_grad()\n",
    "            probabilities = model(X)\n",
    "            loss = F.cross_entropy(probabilities, y.reshape(-1))\n",
    "            loss.backward()\n",
    "            optimizer.step()\n",
    "\n",
    "        model.eval()\n",
    "        loss_collector = []\n",
    "        with torch.no_grad():\n",
    "            for idx, data in enumerate(val_dataloader):\n",
    "                X, y = map(lambda x: x.to(DEVICE), data)\n",
    "                probabilities = model(X)\n",
    "                loss = F.cross_entropy(probabilities, y.reshape(-1))\n",
    "                loss_collector.append(loss.item())\n",
    "\n",
    "        loss = np.asarray(loss_collector).mean()\n",
    "        if best_loss > loss:\n",
    "            current_patience = patience\n",
    "            best_loss = loss\n",
    "            best_model = deepcopy(model.state_dict())\n",
    "        else:\n",
    "            current_patience -= 1\n",
    "\n",
    "        if current_patience == 0:\n",
    "            break\n",
    "\n",
    "    model.load_state_dict(best_model)\n",
    "    model.eval()\n",
    "\n",
    "    probability_collector = []\n",
    "    for idx, data in enumerate(test_loader):\n",
    "        X, y = map(lambda x: x.to(DEVICE), data)\n",
    "        probabilities = model.forward(X)\n",
    "        probability_collector += probabilities.cpu().tolist()\n",
    "\n",
    "    probability_collector = np.asarray(probability_collector)\n",
    "    return probability_collector\n",
    "\n",
    "\n",
    "def get_dataloaders(train_X, train_y, val_X, val_y, test_X, test_y, batch_size=128):\n",
    "    train_set = LoadImputedDataAndLabel(train_X, train_y)\n",
    "    val_set = LoadImputedDataAndLabel(val_X, val_y)\n",
    "    test_set = LoadImputedDataAndLabel(test_X, test_y)\n",
    "    train_loader = DataLoader(train_set, batch_size, shuffle=True)\n",
    "    val_loader = DataLoader(val_set, batch_size, shuffle=False)\n",
    "    test_loader = DataLoader(test_set, batch_size, shuffle=False)\n",
    "    return train_loader, val_loader, test_loader\n"
   ]
  },
  {
   "cell_type": "markdown",
   "id": "9aff084a-9132-4da6-bcaa-252a33b46d94",
   "metadata": {},
   "source": [
    "### 2.2 数据加载"
   ]
  },
  {
   "cell_type": "code",
   "execution_count": 2,
   "id": "ec747204-1b11-4f90-9bc7-aa61b4be3156",
   "metadata": {},
   "outputs": [
    {
     "name": "stderr",
     "output_type": "stream",
     "text": [
      "/opt/homebrew/anaconda3/envs/ml/lib/python3.12/site-packages/tqdm/auto.py:21: TqdmWarning: IProgress not found. Please update jupyter and ipywidgets. See https://ipywidgets.readthedocs.io/en/stable/user_install.html\n",
      "  from .autonotebook import tqdm as notebook_tqdm\n"
     ]
    },
    {
     "name": "stdout",
     "output_type": "stream",
     "text": [
      "\u001b[34m\n",
      "████████╗██╗███╗   ███╗███████╗    ███████╗███████╗██████╗ ██╗███████╗███████╗    █████╗ ██╗\n",
      "╚══██╔══╝██║████╗ ████║██╔════╝    ██╔════╝██╔════╝██╔══██╗██║██╔════╝██╔════╝   ██╔══██╗██║\n",
      "   ██║   ██║██╔████╔██║█████╗█████╗███████╗█████╗  ██████╔╝██║█████╗  ███████╗   ███████║██║\n",
      "   ██║   ██║██║╚██╔╝██║██╔══╝╚════╝╚════██║██╔══╝  ██╔══██╗██║██╔══╝  ╚════██║   ██╔══██║██║\n",
      "   ██║   ██║██║ ╚═╝ ██║███████╗    ███████║███████╗██║  ██║██║███████╗███████║██╗██║  ██║██║\n",
      "   ╚═╝   ╚═╝╚═╝     ╚═╝╚══════╝    ╚══════╝╚══════╝╚═╝  ╚═╝╚═╝╚══════╝╚══════╝╚═╝╚═╝  ╚═╝╚═╝\n",
      "ai4ts v0.0.2 - building AI for unified time-series analysis, https://time-series.ai \u001b[0m\n",
      "\n"
     ]
    }
   ],
   "source": [
    "from pypots.data.saving import pickle_load\n",
    "\n",
    "# 重新加载插补后的数据\n",
    "imputed_physionet2012 = pickle_load('result_saving/imputed_physionet2012.pkl')\n",
    "train_X, val_X, test_X = imputed_physionet2012['train_set_imputation'], imputed_physionet2012['val_set_imputation'], imputed_physionet2012['test_set_imputation']\n",
    "# 这里我们只需要原数据集中相应样本的标签\n",
    "train_y, val_y, test_y = imputed_physionet2012['train_set_labels'], imputed_physionet2012['val_set_labels'], imputed_physionet2012['test_set_labels']\n",
    "\n",
    "# 转换成torch dataloader\n",
    "train_loader, val_loader, test_loader = get_dataloaders(\n",
    "    train_X, \n",
    "    train_y, \n",
    "    val_X, \n",
    "    val_y, \n",
    "    test_X, \n",
    "    test_y,\n",
    ")"
   ]
  },
  {
   "cell_type": "markdown",
   "id": "c08ced54-89fb-43be-be14-983d28c70483",
   "metadata": {},
   "source": [
    "### 2.3 训练分类模型"
   ]
  },
  {
   "cell_type": "code",
   "execution_count": 4,
   "id": "f52a1ba0-5ee1-47c7-8e6c-e1aaaeee0530",
   "metadata": {},
   "outputs": [],
   "source": [
    "# 初始化LSTM分类器\n",
    "rnn_classifier = ClassificationLSTM(\n",
    "    n_features=37,\n",
    "    rnn_hidden_size=128,\n",
    "    n_classes=2, # physionet2012是一个二分类数据集\n",
    ")\n",
    "# 训练LSTM分类器\n",
    "proba_predictions = train(rnn_classifier, train_loader, val_loader, test_loader)"
   ]
  },
  {
   "cell_type": "markdown",
   "id": "294a6ccd-5140-47b9-9f8e-c8fe9a58142b",
   "metadata": {},
   "source": [
    "### 2.4 计算分类精度"
   ]
  },
  {
   "cell_type": "code",
   "execution_count": 5,
   "id": "7eddc965-d443-4b07-b1d2-d190805ebcab",
   "metadata": {},
   "outputs": [
    {
     "name": "stdout",
     "output_type": "stream",
     "text": [
      "test_set中的正负样本比例为111:689, 正样本占样本数量的0.13875, 所以这是一个不平衡的二分类问题, 故我们在此使用ROC-AUC和PR-AUC作为评价指标\n",
      "\n",
      "LSTM在测试集上的ROC-AUC为: 0.6626\n",
      "\n",
      "LSTM在测试集上的PR-AUC为: 0.3177\n",
      "\n"
     ]
    }
   ],
   "source": [
    "from pypots.nn.functional.classification import calc_binary_classification_metrics\n",
    "\n",
    "pos_num = test_y.sum()\n",
    "neg_num = len(test_y) - test_y.sum()\n",
    "print(f'test_set中的正负样本比例为{pos_num}:{neg_num}, 正样本占样本数量的{pos_num/len(test_y)}, 所以这是一个不平衡的二分类问题, 故我们在此使用ROC-AUC和PR-AUC作为评价指标\\n')\n",
    "\n",
    "classification_metrics=calc_binary_classification_metrics(\n",
    "    proba_predictions, test_y\n",
    ")\n",
    "print(f\"LSTM在测试集上的ROC-AUC为: {classification_metrics['roc_auc']:.4f}\\n\")\n",
    "print(f\"LSTM在测试集上的PR-AUC为: {classification_metrics['pr_auc']:.4f}\\n\")"
   ]
  },
  {
   "cell_type": "markdown",
   "id": "3f4f743e-7e06-4600-bd45-0d66a6f83d74",
   "metadata": {},
   "source": [
    "# 3. 阅读材料\n",
    "\n",
    "### Ralf C. Staudemeyer, Eric Rothstein Morris. (2019). [Understanding LSTM -- a tutorial into Long Short-Term Memory Recurrent Neural Networks](https://arxiv.org/abs/1909.09586). arXiv.\n",
    "#### 推荐原因: 作为老牌的时序算法, LSTM一直都有不少论文在讨论. 该文从类似tutorial的角度讲解了LSTM模型, 对初学者较为友好, 尤其适合刚入学的时序领域的研究生们. 截止2025年5月Google Scholar上引用1300+."
   ]
  }
 ],
 "metadata": {
  "kernelspec": {
   "display_name": "Python 3 (ipykernel)",
   "language": "python",
   "name": "python3"
  },
  "language_info": {
   "codemirror_mode": {
    "name": "ipython",
    "version": 3
   },
   "file_extension": ".py",
   "mimetype": "text/x-python",
   "name": "python",
   "nbconvert_exporter": "python",
   "pygments_lexer": "ipython3",
   "version": "3.12.4"
  }
 },
 "nbformat": 4,
 "nbformat_minor": 5
}
